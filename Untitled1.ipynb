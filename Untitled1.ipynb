{
 "cells": [
  {
   "cell_type": "code",
   "execution_count": 6,
   "metadata": {},
   "outputs": [
    {
     "name": "stdout",
     "output_type": "stream",
     "text": [
      "1 2 3 4 6 12 "
     ]
    }
   ],
   "source": [
    "# find the factors of a given number\n",
    "# -- > 1 2 3 4 6 12\n",
    "def factorslist(n):\n",
    "    for i in range(1,n+1):\n",
    "        if n % i == 0:\n",
    "            print(i,end=\" \")\n",
    "    return\n",
    "factorslist(12)\n",
    "    "
   ]
  },
  {
   "cell_type": "code",
   "execution_count": 8,
   "metadata": {},
   "outputs": [
    {
     "data": {
      "text/plain": [
       "True"
      ]
     },
     "execution_count": 8,
     "metadata": {},
     "output_type": "execute_result"
    }
   ],
   "source": [
    "# given number is prime number or not\n",
    "def isPrime(n):\n",
    "    flag = True\n",
    "    for i in range(2,n//2+1):\n",
    "        if n % i == 0:\n",
    "            flag = False\n",
    "            return flag\n",
    "    return flag\n",
    "isPrime(13)\n",
    "        "
   ]
  },
  {
   "cell_type": "code",
   "execution_count": 16,
   "metadata": {},
   "outputs": [
    {
     "data": {
      "text/plain": [
       "8"
      ]
     },
     "execution_count": 16,
     "metadata": {},
     "output_type": "execute_result"
    }
   ],
   "source": [
    "# Function to find Prime numbers count from 1 to n\n",
    "# 10 -- 4(2,3,5,7)\n",
    "def  primecount(n):\n",
    "    cnt = 0\n",
    "    for a in range(2,n+1):\n",
    "        k = 0\n",
    "        for i in range(2,a//2+1):\n",
    "            if a % i == 0:\n",
    "                k = k + 1\n",
    "        if(k<=0):\n",
    "            cnt = cnt + 1\n",
    "    return cnt\n",
    "primecount(20)\n",
    "         "
   ]
  },
  {
   "cell_type": "code",
   "execution_count": 17,
   "metadata": {},
   "outputs": [
    {
     "name": "stdout",
     "output_type": "stream",
     "text": [
      "yes\n",
      "no\n"
     ]
    }
   ],
   "source": [
    "# individual digit factorial sum is same as original number\n",
    "# example:-\n",
    "# 145 -- yes (5! + 21 + 1! = 145)\n",
    "# 123 -- no(3! + 2! + 1! = 9)\n",
    "def factorial(n):\n",
    "    fact = 1\n",
    "    for i in range(2,n+1):\n",
    "        fact *= i\n",
    "    return fact\n",
    "def digitfactsum(n):\n",
    "    sum = 0\n",
    "    buffer = n\n",
    "    while n != 0:\n",
    "        r = n % 10\n",
    "        sum += factorial(r)\n",
    "        n = n // 10\n",
    "    if sum == buffer:\n",
    "        return \"yes\"\n",
    "    else:\n",
    "        return \"no\"\n",
    "    return\n",
    "print(digitfactsum(145))\n",
    "print(digitfactsum(123))"
   ]
  },
  {
   "cell_type": "code",
   "execution_count": 18,
   "metadata": {},
   "outputs": [],
   "source": [
    "# function to return the count of palindrome numbers to limit\n",
    "# input : 1 10\n",
    "# output : 9(1,2,3,4,5,6,7,8,9)\n",
    "\n",
    "# input : 11 100\n",
    "# ouput :9(11,22,33,....,99)\n",
    "def ispalindrome(n):\n",
    "    rev = 0\n",
    "    buffer = 0\n",
    "    while n != 0:\n",
    "        r = n % 10\n",
    "        rev = rev * 10 + r\n",
    "        n = n //  10\n",
    "    if rev == buffer:\n",
    "        return T\n",
    "    return "
   ]
  },
  {
   "cell_type": "markdown",
   "metadata": {},
   "source": [
    "## s1 = 'python'\n",
    "print(s1[0]) # Access the first character\n",
    "print(s1[1]) # Access the second character         \n",
    "print(s1[5]) # Access the last character\n",
    "print(s1[len(s1)-1]) # Access the last character"
   ]
  },
  {
   "cell_type": "code",
   "execution_count": 20,
   "metadata": {},
   "outputs": [
    {
     "name": "stdout",
     "output_type": "stream",
     "text": [
      "n\n",
      "o\n",
      "py\n",
      "py\n",
      "hon\n",
      "thon\n"
     ]
    }
   ],
   "source": [
    "print(s1[-1]) #Another way access the last character\n",
    "print(s1[-2]) #Another way to access the last second character\n",
    "print(s1[0:2]) #Accesss the first character\n",
    "print(s1[:2]) #Access the first characters\n",
    "print(s1[-3:]) #Last three characters\n",
    "print(s1[2:]) #From second character to last character"
   ]
  },
  {
   "cell_type": "code",
   "execution_count": 21,
   "metadata": {},
   "outputs": [
    {
     "name": "stdout",
     "output_type": "stream",
     "text": [
      "ytho\n",
      "h\n",
      "nohtyp\n",
      "no\n",
      "pto\n",
      "ph\n"
     ]
    }
   ],
   "source": [
    "print(s1[1:-1]) # printing all character expect first and last\n",
    "print(s1[len(s1)//2]) # Middle of the string\n",
    "print(s1[-1::-1]) # reverse of the string\n",
    "print(s1[-1:-3:-1]) # Accesss the last two character\n",
    "# Access the alternate characters\n",
    "print(s1[::2]) # two characters\n",
    "print(s1[::3]) #three characters"
   ]
  },
  {
   "cell_type": "code",
   "execution_count": 22,
   "metadata": {},
   "outputs": [
    {
     "name": "stdout",
     "output_type": "stream",
     "text": [
      "P T "
     ]
    }
   ],
   "source": [
    "  #ASCII :-\n",
    "#A - Z : 65 - 90\n",
    "#a - z : 97 - 122\n",
    "#0 - 9 : 48 - 57\n",
    "#space : 32\n",
    "def printUpper(x):\n",
    "    for i in range(len(x)):\n",
    "        if ord(x[i]) >= 65 and ord(x[i]) <= 90:\n",
    "            print(x[i],end = \" \")\n",
    "    return\n",
    "printUpper(\"PyThon\")"
   ]
  },
  {
   "cell_type": "code",
   "execution_count": 23,
   "metadata": {},
   "outputs": [
    {
     "name": "stdout",
     "output_type": "stream",
     "text": [
      "False\n",
      "True\n"
     ]
    }
   ],
   "source": [
    "def isPalindrome(str):\n",
    "    if str == str[::-1]:\n",
    "        return True\n",
    "    else:\n",
    "        return False\n",
    "    return\n",
    "print(isPalindrome(\"Python\"))\n",
    "print(isPalindrome(\"ganag\"))\n"
   ]
  },
  {
   "cell_type": "code",
   "execution_count": 24,
   "metadata": {},
   "outputs": [
    {
     "name": "stdout",
     "output_type": "stream",
     "text": [
      "1 8 8 9 "
     ]
    }
   ],
   "source": [
    " # Extract digits from given string\n",
    "# Example :\n",
    "# Input : Appli1cat8ion89\n",
    "# Output : 1 8 8 9\n",
    "def extractDigits(str):\n",
    "   for x in range(len(str)):\n",
    "       if ord(str[x]) >= 48 and ord(str[x]) <= 57:\n",
    "           print(str[x],end=\" \")\n",
    "   return\n",
    "extractDigits(\"Appli1cat8ion89\") # 1 8 8 9"
   ]
  },
  {
   "cell_type": "code",
   "execution_count": 26,
   "metadata": {},
   "outputs": [
    {
     "name": "stdout",
     "output_type": "stream",
     "text": [
      "SameCount\n",
      "programming\n"
     ]
    }
   ],
   "source": [
    "#Function to print \"sameCount\" if the count of\n",
    "# upper and lower case is same\n",
    "# Print \"Programming\" if not same\n",
    "# Example : PyThOn -- 3 P T O (Upper case) -- sameCount\n",
    "#                     3 y h n (lower case)\n",
    "#PytHon -- P H (2)\n",
    "#       -- y t o n (4) - programming\n",
    "def findCount(str):\n",
    "   cntUpper = 0\n",
    "   cntLower = 0\n",
    "   for x in range(len(str)):\n",
    "       if ord(str[x]) >= 65 and ord(str[x]) <=90:\n",
    "           cntUpper = cntUpper + 1\n",
    "       elif ord(str[x]) >= 97 and ord(str[x]) <=122:\n",
    "           cntLower = cntLower + 1\n",
    "   if cntUpper == cntLower:\n",
    "       return \"SameCount\"\n",
    "   else:\n",
    "       return \"programming\"\n",
    "   return\n",
    "print(findCount('PyThOn'))# SameCount\n",
    "print(findCount('PytHon'))# programming"
   ]
  },
  {
   "cell_type": "code",
   "execution_count": 27,
   "metadata": {},
   "outputs": [
    {
     "name": "stdout",
     "output_type": "stream",
     "text": [
      "pto\n",
      "ph\n"
     ]
    }
   ],
   "source": [
    "# Access the alternate characters\n",
    "print(s1[::2]) # two characters\n",
    "print(s1[::3]) #three characters\n"
   ]
  },
  {
   "cell_type": "code",
   "execution_count": 28,
   "metadata": {},
   "outputs": [
    {
     "name": "stdout",
     "output_type": "stream",
     "text": [
      "n\n",
      "o\n",
      "py\n",
      "py\n",
      "hon\n",
      "thon\n",
      "n\n",
      "o\n",
      "py\n",
      "py\n",
      "hon\n",
      "thon\n",
      "ytho\n",
      "h\n",
      "nohtyp\n",
      "no\n"
     ]
    }
   ],
   "source": [
    "print(s1[-1]) #Another way access the last character\n",
    "print(s1[-2]) #Another way to access the last second character\n",
    "print(s1[0:2]) #Accesss the first character\n",
    "print(s1[:2]) #Access the first characters\n",
    "print(s1[-3:]) #Last three characters\n",
    "print(s1[2:]) #From second character to last character\n",
    "print(s1[-1]) #Another way access the last character\n",
    "print(s1[-2]) #Another way to access the last second character\n",
    "print(s1[0:2]) #Accesss the first character\n",
    "print(s1[:2]) #Access the first characters\n",
    "print(s1[-3:]) #Last three characters\n",
    "print(s1[2:]) #From second character to last character\n",
    "print(s1[1:-1]) # printing all character expect first and last\n",
    "print(s1[len(s1)//2]) # Middle of the string\n",
    "print(s1[-1::-1]) # reverse of the string\n",
    "print(s1[-1:-3:-1]) # Accesss the last two character"
   ]
  },
  {
   "cell_type": "code",
   "execution_count": 30,
   "metadata": {},
   "outputs": [
    {
     "ename": "IndentationError",
     "evalue": "unindent does not match any outer indentation level (<tokenize>, line 16)",
     "output_type": "error",
     "traceback": [
      "\u001b[1;36m  File \u001b[1;32m\"<tokenize>\"\u001b[1;36m, line \u001b[1;32m16\u001b[0m\n\u001b[1;33m    elif ord(s[x]) >= 97 and ord(s[x]) <=122:\u001b[0m\n\u001b[1;37m    ^\u001b[0m\n\u001b[1;31mIndentationError\u001b[0m\u001b[1;31m:\u001b[0m unindent does not match any outer indentation level\n"
     ]
    }
   ],
   "source": [
    "# function to print the specific word in upper case\n",
    "# example:\n",
    "# Input : Python made easy\n",
    "# output : MADE\n",
    "# input : learn python programming\n",
    "# output : python\n",
    "def wordUpperCase(s):\n",
    "   spacecnt = 0\n",
    "   for x in range (len(s)):\n",
    "       \n",
    "       if ord(s[x]) == 32:\n",
    "           spacecnt += 1 # spacecnt = spacecnt + 1\n",
    "       if spacecnt == 1:\n",
    "            if ord(s[x]) >= 65 and ord(s[x]) <= 90:\n",
    "               print(s[x],end=\"\")\n",
    "           elif ord(s[x]) >= 97 and ord(s[x]) <=122:\n",
    "               print(chr(ord(s[x])-32),end=\"\")\n",
    "       if spacecnt == 2:\n",
    "           break\n",
    "   return\n",
    "wordUpperCase('Python Made Easy') # MADE"
   ]
  },
  {
   "cell_type": "code",
   "execution_count": null,
   "metadata": {},
   "outputs": [],
   "source": []
  },
  {
   "cell_type": "code",
   "execution_count": null,
   "metadata": {},
   "outputs": [],
   "source": []
  },
  {
   "cell_type": "code",
   "execution_count": null,
   "metadata": {},
   "outputs": [],
   "source": []
  }
 ],
 "metadata": {
  "kernelspec": {
   "display_name": "Python 3",
   "language": "python",
   "name": "python3"
  },
  "language_info": {
   "codemirror_mode": {
    "name": "ipython",
    "version": 3
   },
   "file_extension": ".py",
   "mimetype": "text/x-python",
   "name": "python",
   "nbconvert_exporter": "python",
   "pygments_lexer": "ipython3",
   "version": "3.7.3"
  }
 },
 "nbformat": 4,
 "nbformat_minor": 2
}
