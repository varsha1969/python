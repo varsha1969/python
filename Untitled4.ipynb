{
 "cells": [
  {
   "cell_type": "code",
   "execution_count": 3,
   "metadata": {},
   "outputs": [
    {
     "name": "stdout",
     "output_type": "stream",
     "text": [
      "1 3  9  27  81  243  729  2187  6561  19683  59049  177147  "
     ]
    }
   ],
   "source": [
    "def printSeries(n):\n",
    "   y = 1\n",
    "   print(y, end =\" \")\n",
    "   for x in range(0,n+1):\n",
    "       y = y * 3\n",
    "       print(y,end=\"  \")\n",
    "   return\n",
    "printSeries(10)"
   ]
  },
  {
   "cell_type": "code",
   "execution_count": 1,
   "metadata": {
    "scrolled": true
   },
   "outputs": [
    {
     "name": "stdout",
     "output_type": "stream",
     "text": [
      "1 2  4  8  16  32  64  128  256  512  1024  2048  "
     ]
    }
   ],
   "source": [
    "def printSeries(n):\n",
    "   y = 1\n",
    "   print(y, end =\" \")\n",
    "   for x in range(0,n+1):\n",
    "       y = y * 2\n",
    "       print(y,end=\"  \")\n",
    "   return \n",
    "printSeries(10)"
   ]
  },
  {
   "cell_type": "code",
   "execution_count": 3,
   "metadata": {},
   "outputs": [
    {
     "name": "stdout",
     "output_type": "stream",
     "text": [
      "Python Programming "
     ]
    }
   ],
   "source": [
    "l1 = 'Python'\n",
    "l2 = 'Programming'\n",
    "print(l1,end=\" \")\n",
    "print(l2,end=\" \")"
   ]
  },
  {
   "cell_type": "code",
   "execution_count": 6,
   "metadata": {},
   "outputs": [
    {
     "data": {
      "text/plain": [
       "34"
      ]
     },
     "execution_count": 6,
     "metadata": {},
     "output_type": "execute_result"
    }
   ],
   "source": [
    "def Fibonacci(n):\n",
    "   x = n-1\n",
    "   if n<0: \n",
    "       print(\"Incorrect input\") \n",
    "   elif n==1: \n",
    "       return 0 \n",
    "   elif n==2: \n",
    "       return 1\n",
    "   else: \n",
    "       return Fibonacci(n-1)+Fibonacci(n-2)\n",
    "   \n",
    "\n",
    "Fibonacci(10)"
   ]
  },
  {
   "cell_type": "code",
   "execution_count": null,
   "metadata": {},
   "outputs": [],
   "source": []
  },
  {
   "cell_type": "code",
   "execution_count": null,
   "metadata": {},
   "outputs": [],
   "source": []
  }
 ],
 "metadata": {
  "kernelspec": {
   "display_name": "Python 3",
   "language": "python",
   "name": "python3"
  },
  "language_info": {
   "codemirror_mode": {
    "name": "ipython",
    "version": 3
   },
   "file_extension": ".py",
   "mimetype": "text/x-python",
   "name": "python",
   "nbconvert_exporter": "python",
   "pygments_lexer": "ipython3",
   "version": "3.7.3"
  }
 },
 "nbformat": 4,
 "nbformat_minor": 2
}
